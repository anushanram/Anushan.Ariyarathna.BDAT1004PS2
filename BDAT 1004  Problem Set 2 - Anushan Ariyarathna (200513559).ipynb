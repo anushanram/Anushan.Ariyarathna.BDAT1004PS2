{
 "cells": [
  {
   "cell_type": "markdown",
   "id": "3e74e597",
   "metadata": {},
   "source": [
    "## Question 01"
   ]
  },
  {
   "cell_type": "code",
   "execution_count": 1,
   "id": "15439957",
   "metadata": {},
   "outputs": [],
   "source": [
    "a = 0\n",
    "def b():\n",
    "    global a\n",
    "    a = c(a)\n",
    "\n",
    "def c(a):\n",
    "    return a + 2"
   ]
  },
  {
   "cell_type": "code",
   "execution_count": 2,
   "id": "8c10c2c8",
   "metadata": {},
   "outputs": [],
   "source": [
    "b()"
   ]
  },
  {
   "cell_type": "code",
   "execution_count": 4,
   "id": "512bcbd3",
   "metadata": {},
   "outputs": [],
   "source": [
    "# 1. Initially a = 0, after first step, it ran c(0) function ---> a = c(0) ---> a = 2"
   ]
  },
  {
   "cell_type": "code",
   "execution_count": 5,
   "id": "6718dea0",
   "metadata": {},
   "outputs": [],
   "source": [
    "b()"
   ]
  },
  {
   "cell_type": "code",
   "execution_count": 6,
   "id": "7311b236",
   "metadata": {},
   "outputs": [],
   "source": [
    "# 2. Now a = 2, after second step, it ran c(2) function ---> a = c(2) ---> a = 4"
   ]
  },
  {
   "cell_type": "code",
   "execution_count": 7,
   "id": "f1a94bf8",
   "metadata": {},
   "outputs": [],
   "source": [
    "b()"
   ]
  },
  {
   "cell_type": "code",
   "execution_count": 8,
   "id": "9cc36479",
   "metadata": {},
   "outputs": [],
   "source": [
    "# 3. Now a = 4, after third step, it ran c(4) function ---> a = c(4) ---> a = 6"
   ]
  },
  {
   "cell_type": "code",
   "execution_count": 9,
   "id": "7c188393",
   "metadata": {},
   "outputs": [
    {
     "data": {
      "text/plain": [
       "6"
      ]
     },
     "execution_count": 9,
     "metadata": {},
     "output_type": "execute_result"
    }
   ],
   "source": [
    "a"
   ]
  },
  {
   "cell_type": "code",
   "execution_count": 10,
   "id": "83970659",
   "metadata": {},
   "outputs": [],
   "source": [
    "# Since a is a global variable that can be used any where in the code, each step value of a will be increased by 2"
   ]
  },
  {
   "cell_type": "markdown",
   "id": "4a9d961e",
   "metadata": {},
   "source": [
    "## Question 02"
   ]
  },
  {
   "cell_type": "code",
   "execution_count": 15,
   "id": "4fbcf3a6",
   "metadata": {},
   "outputs": [],
   "source": [
    "def file_length(file_name):\n",
    "    try:\n",
    "        file = open(file_name)\n",
    "        contents = file.read()\n",
    "        file.close()\n",
    "        print(len(contents))\n",
    "    except:\n",
    "        print(\"File {} not found\".format(file_name))"
   ]
  },
  {
   "cell_type": "code",
   "execution_count": 17,
   "id": "1ea900c9",
   "metadata": {},
   "outputs": [
    {
     "name": "stdout",
     "output_type": "stream",
     "text": [
      "File file_length.py not found\n"
     ]
    }
   ],
   "source": [
    "file_length('file_length.py')"
   ]
  },
  {
   "cell_type": "code",
   "execution_count": 18,
   "id": "f9d6d54a",
   "metadata": {},
   "outputs": [
    {
     "name": "stdout",
     "output_type": "stream",
     "text": [
      "396\n"
     ]
    }
   ],
   "source": [
    "file_length('w3c..txt')"
   ]
  },
  {
   "cell_type": "markdown",
   "id": "46140aa9",
   "metadata": {},
   "source": [
    "## Question 03"
   ]
  },
  {
   "cell_type": "code",
   "execution_count": 124,
   "id": "25671bd5",
   "metadata": {},
   "outputs": [],
   "source": [
    "class Marsupial:\n",
    "    # class variables\n",
    "    contents = []\n",
    "    \n",
    "    def __init__(self):\n",
    "        self.contents = []\n",
    "        \n",
    "    def put_in_pouch(self,item):\n",
    "        self.contents.append(item)\n",
    "        \n",
    "    def pouch_contents(self):\n",
    "        return self.contents"
   ]
  },
  {
   "cell_type": "code",
   "execution_count": 125,
   "id": "d1b519bd",
   "metadata": {},
   "outputs": [],
   "source": [
    "m = Marsupial()"
   ]
  },
  {
   "cell_type": "code",
   "execution_count": 126,
   "id": "7bd3416f",
   "metadata": {},
   "outputs": [],
   "source": [
    "m.put_in_pouch('doll')"
   ]
  },
  {
   "cell_type": "code",
   "execution_count": 127,
   "id": "aca3b466",
   "metadata": {},
   "outputs": [],
   "source": [
    "m.put_in_pouch('firetruck')"
   ]
  },
  {
   "cell_type": "code",
   "execution_count": 128,
   "id": "4554609e",
   "metadata": {},
   "outputs": [],
   "source": [
    "m.put_in_pouch('kitten')"
   ]
  },
  {
   "cell_type": "code",
   "execution_count": 113,
   "id": "0251a057",
   "metadata": {},
   "outputs": [
    {
     "data": {
      "text/plain": [
       "['doll', 'firetruck', 'kitten']"
      ]
     },
     "execution_count": 113,
     "metadata": {},
     "output_type": "execute_result"
    }
   ],
   "source": [
    "m.pouch_contents()"
   ]
  },
  {
   "cell_type": "code",
   "execution_count": 133,
   "id": "d56e8508",
   "metadata": {},
   "outputs": [],
   "source": [
    "class Kangaroo(Marsupial):\n",
    "    def __init__(self,x,y):\n",
    "        self.x = x\n",
    "        self.y = y\n",
    "    \n",
    "    def jump(self,dx,dy):\n",
    "        self.x = self.x + dx\n",
    "        self.y = self.y + dy\n",
    "        \n",
    "    def __str__ (self):\n",
    "        return \"I am a Kangaroo located at coordinates ({},{})\".format(self.x,self.y)"
   ]
  },
  {
   "cell_type": "code",
   "execution_count": 134,
   "id": "87273d62",
   "metadata": {},
   "outputs": [],
   "source": [
    "k = Kangaroo(0,0)"
   ]
  },
  {
   "cell_type": "code",
   "execution_count": 135,
   "id": "07cf2934",
   "metadata": {},
   "outputs": [
    {
     "name": "stdout",
     "output_type": "stream",
     "text": [
      "I am a Kangaroo located at coordinates (0,0)\n"
     ]
    }
   ],
   "source": [
    "print(k)"
   ]
  },
  {
   "cell_type": "code",
   "execution_count": 136,
   "id": "79894b71",
   "metadata": {},
   "outputs": [],
   "source": [
    "k.put_in_pouch('doll')"
   ]
  },
  {
   "cell_type": "code",
   "execution_count": 137,
   "id": "4d55b502",
   "metadata": {},
   "outputs": [],
   "source": [
    "k.put_in_pouch('firetruck')"
   ]
  },
  {
   "cell_type": "code",
   "execution_count": 138,
   "id": "f04fd822",
   "metadata": {},
   "outputs": [],
   "source": [
    "k.put_in_pouch('kitten')"
   ]
  },
  {
   "cell_type": "code",
   "execution_count": 139,
   "id": "3a12f1f0",
   "metadata": {},
   "outputs": [
    {
     "data": {
      "text/plain": [
       "['doll', 'firetruck', 'kitten']"
      ]
     },
     "execution_count": 139,
     "metadata": {},
     "output_type": "execute_result"
    }
   ],
   "source": [
    "k.pouch_contents()"
   ]
  },
  {
   "cell_type": "code",
   "execution_count": 140,
   "id": "70c9b6ef",
   "metadata": {},
   "outputs": [],
   "source": [
    "k.jump(1,0)"
   ]
  },
  {
   "cell_type": "code",
   "execution_count": 141,
   "id": "6db61a15",
   "metadata": {},
   "outputs": [],
   "source": [
    "k.jump(1,0)"
   ]
  },
  {
   "cell_type": "code",
   "execution_count": 142,
   "id": "1f958e29",
   "metadata": {},
   "outputs": [],
   "source": [
    "k.jump(1,0)"
   ]
  },
  {
   "cell_type": "code",
   "execution_count": 143,
   "id": "4518b1ba",
   "metadata": {},
   "outputs": [
    {
     "name": "stdout",
     "output_type": "stream",
     "text": [
      "I am a Kangaroo located at coordinates (3,0)\n"
     ]
    }
   ],
   "source": [
    "print(k)"
   ]
  },
  {
   "cell_type": "markdown",
   "id": "f161f034",
   "metadata": {},
   "source": [
    "## Question 04"
   ]
  },
  {
   "cell_type": "code",
   "execution_count": 49,
   "id": "52745314",
   "metadata": {},
   "outputs": [],
   "source": [
    "def collatz(x):\n",
    "    if (x==1):\n",
    "        print(1)\n",
    "    elif ((x>1) and (x%2==0)):\n",
    "        print(x)\n",
    "        collatz(int(x/2))\n",
    "    elif ((x>1) and (x%2==1)):\n",
    "        print(x)\n",
    "        collatz((3*x)+1)"
   ]
  },
  {
   "cell_type": "code",
   "execution_count": 50,
   "id": "7e7a23d3",
   "metadata": {},
   "outputs": [
    {
     "name": "stdout",
     "output_type": "stream",
     "text": [
      "1\n"
     ]
    }
   ],
   "source": [
    "collatz(1)"
   ]
  },
  {
   "cell_type": "code",
   "execution_count": 51,
   "id": "c1ebfb2c",
   "metadata": {},
   "outputs": [
    {
     "name": "stdout",
     "output_type": "stream",
     "text": [
      "10\n",
      "5\n",
      "16\n",
      "8\n",
      "4\n",
      "2\n",
      "1\n"
     ]
    }
   ],
   "source": [
    "collatz(10)"
   ]
  },
  {
   "cell_type": "markdown",
   "id": "270f0e16",
   "metadata": {},
   "source": [
    "## Question 05"
   ]
  },
  {
   "cell_type": "code",
   "execution_count": 66,
   "id": "4dae78aa",
   "metadata": {},
   "outputs": [],
   "source": [
    "def binary(n):\n",
    "    if ((n==1) or (n==0)):\n",
    "        return str(n)\n",
    "    else:\n",
    "        return str((n%2)) + binary(int(n/2))"
   ]
  },
  {
   "cell_type": "code",
   "execution_count": 67,
   "id": "a2b0913f",
   "metadata": {},
   "outputs": [
    {
     "data": {
      "text/plain": [
       "'0'"
      ]
     },
     "execution_count": 67,
     "metadata": {},
     "output_type": "execute_result"
    }
   ],
   "source": [
    "binary(0)"
   ]
  },
  {
   "cell_type": "code",
   "execution_count": 68,
   "id": "7486704b",
   "metadata": {},
   "outputs": [
    {
     "data": {
      "text/plain": [
       "'1'"
      ]
     },
     "execution_count": 68,
     "metadata": {},
     "output_type": "execute_result"
    }
   ],
   "source": [
    "binary(1)"
   ]
  },
  {
   "cell_type": "code",
   "execution_count": 69,
   "id": "1af9d3c7",
   "metadata": {},
   "outputs": [
    {
     "data": {
      "text/plain": [
       "'11'"
      ]
     },
     "execution_count": 69,
     "metadata": {},
     "output_type": "execute_result"
    }
   ],
   "source": [
    "binary(3)"
   ]
  },
  {
   "cell_type": "code",
   "execution_count": 70,
   "id": "ad42d64d",
   "metadata": {},
   "outputs": [
    {
     "data": {
      "text/plain": [
       "'1001'"
      ]
     },
     "execution_count": 70,
     "metadata": {},
     "output_type": "execute_result"
    }
   ],
   "source": [
    "binary(9)"
   ]
  },
  {
   "cell_type": "markdown",
   "id": "32bf5bc0",
   "metadata": {},
   "source": [
    "## Question 06"
   ]
  },
  {
   "cell_type": "code",
   "execution_count": 138,
   "id": "e815306b",
   "metadata": {},
   "outputs": [],
   "source": [
    "from html.parser import HTMLParser\n",
    "\n",
    "class HeadingParser(HTMLParser):\n",
    "    def __init__(self):\n",
    "        HTMLParser.__init__(self)\n",
    "        self.recording = 0\n",
    "        self.header_tags = [\"h1\",\"h2\",\"h3\",\"h4\",\"h5\",\"h6\"]\n",
    "        self.indent = 0\n",
    "\n",
    "    def handle_starttag(self, tag, attrs):\n",
    "        if tag in self.header_tags:\n",
    "            self.recording = 1\n",
    "            self.indent = int(tag[-1])-1\n",
    "\n",
    "    def handle_endtag(self, tag):\n",
    "        if tag in self.header_tags:\n",
    "            self.recording -= 1\n",
    "            self.indent = 0\n",
    "\n",
    "    def handle_data(self, data):\n",
    "        if self.recording:\n",
    "            print((\"\\t\"*self.indent) + data)"
   ]
  },
  {
   "cell_type": "code",
   "execution_count": 139,
   "id": "337755ea",
   "metadata": {},
   "outputs": [],
   "source": [
    "infile = open('w3c.html')"
   ]
  },
  {
   "cell_type": "code",
   "execution_count": 140,
   "id": "9697a4c3",
   "metadata": {},
   "outputs": [],
   "source": [
    "content = infile.read()"
   ]
  },
  {
   "cell_type": "code",
   "execution_count": 141,
   "id": "933c94b9",
   "metadata": {},
   "outputs": [],
   "source": [
    "infile.close()"
   ]
  },
  {
   "cell_type": "code",
   "execution_count": 142,
   "id": "2b079e97",
   "metadata": {},
   "outputs": [],
   "source": [
    "hp = HeadingParser()"
   ]
  },
  {
   "cell_type": "code",
   "execution_count": 143,
   "id": "56c35e31",
   "metadata": {},
   "outputs": [
    {
     "name": "stdout",
     "output_type": "stream",
     "text": [
      "W3C Mission\n",
      "\tPrinciples\n"
     ]
    }
   ],
   "source": [
    "hp.feed(content)"
   ]
  },
  {
   "cell_type": "markdown",
   "id": "323f4148",
   "metadata": {},
   "source": [
    "## Question 07"
   ]
  },
  {
   "cell_type": "code",
   "execution_count": 4,
   "id": "68b0c0ad",
   "metadata": {},
   "outputs": [],
   "source": [
    "from urllib.parse import urljoin\n",
    "from html.parser import HTMLParser\n",
    "class Collector(HTMLParser):\n",
    "    'collects hyperlink URLs into a list'\n",
    "\n",
    "    def __init__(self, url):\n",
    "        'initializes parser, the url, and a list'\n",
    "        HTMLParser.__init__(self)\n",
    "        self.url = url\n",
    "        self.links = []\n",
    "\n",
    "    \n",
    "    def handle_starttag(self, tag, attrs):\n",
    "        'collects hyperlink URLs in their absolute format'\n",
    "        if tag == 'a':\n",
    "            for attr in attrs:\n",
    "                if attr[0] == 'href':\n",
    "                    # construct absolute URL\n",
    "                    absolute = urljoin(self.url, attr[1])\n",
    "                    if absolute[:4] == 'http': # collect HTTP URLs\n",
    "                        self.links.append(absolute)\n",
    "                        \n",
    "    def getLinks(self):\n",
    "        'returns hyperlinks URLs in their absolute format'\n",
    "        return self.links"
   ]
  },
  {
   "cell_type": "code",
   "execution_count": 5,
   "id": "be9ccef8",
   "metadata": {},
   "outputs": [],
   "source": [
    "from urllib.request import urlopen\n",
    "from urllib.parse import urljoin\n",
    "\n",
    "from html.parser import HTMLParser\n",
    "\n",
    "def analyze(url):     \n",
    "\n",
    "    # obtain links in the web page\n",
    "    content = urlopen(url).read().decode()\n",
    "    collector = Collector(url)\n",
    "    collector.feed(content)\n",
    "    \n",
    "    # get list of links\n",
    "    urls = collector.getLinks()   \n",
    "    \n",
    "    return urls"
   ]
  },
  {
   "cell_type": "code",
   "execution_count": 6,
   "id": "75241e1d",
   "metadata": {},
   "outputs": [],
   "source": [
    "# analyze(\"https://www.enable-javascript.com\")"
   ]
  },
  {
   "cell_type": "code",
   "execution_count": 7,
   "id": "e55b9387",
   "metadata": {},
   "outputs": [],
   "source": [
    "visited = []\n",
    "\n",
    "def webdir(url,depth,indent):\n",
    "    print((indent*\"\\t\")+url)\n",
    "    \n",
    "    # call global variable and add initial web page\n",
    "    global visited\n",
    "    visited.append(url)\n",
    "    \n",
    "    # get a list of hyperlinks for initial page\n",
    "    links = analyze(url)\n",
    "    \n",
    "    if (depth>0):\n",
    "        for link in links:\n",
    "            if link not in visited:\n",
    "                try:\n",
    "                    webdir(link,depth-1,indent+1)\n",
    "                except: pass"
   ]
  },
  {
   "cell_type": "code",
   "execution_count": 20,
   "id": "ececf017",
   "metadata": {},
   "outputs": [],
   "source": [
    "#url = \"https://radio.garden/listen/wo-w/IMBn-8Ca\"\n",
    "url = \"https://ca.search.yahoo.com\""
   ]
  },
  {
   "cell_type": "code",
   "execution_count": 21,
   "id": "94129b73",
   "metadata": {
    "scrolled": true
   },
   "outputs": [
    {
     "name": "stdout",
     "output_type": "stream",
     "text": [
      "https://ca.search.yahoo.com\n",
      "\thttps://ca.yahoo.com/\n",
      "\t\thttps://login.yahoo.com/?.lang=en-CA&.intl=ca&src=homepage\n",
      "\t\thttps://mail.yahoo.com/?.intl=ca&.lang=en-CA\n",
      "\t\thttps://mail.yahoo.com/\n",
      "\t\thttps://ca.yahoo.com/topics/coronavirus-news/\n",
      "\t\thttps://ca.news.yahoo.com/\n",
      "\t\thttps://ca.sports.yahoo.com/\n",
      "\t\thttps://ca.finance.yahoo.com/\n",
      "\t\thttps://ca.style.yahoo.com/\n",
      "\t\thttps://ca.news.yahoo.com/celebrity\n",
      "\t\thttps://ca.everything.yahoo.com/\n",
      "\t\thttps://ca.yahoo.com/news/niagara-falls-plunge-woman-5-200348725.html\n",
      "\t\thttps://ca.yahoo.com/news/gta-condo-owner-says-hes-090000485.html\n",
      "\t\thttps://ca.yahoo.com/news/inquiry-set-deliver-verdict-today-090000907.html\n",
      "\t\thttps://ca.yahoo.com/news/winnipeg-man-decries-degrading-dehumanizing-000826878.html\n",
      "\t\thttps://ca.yahoo.com/news/marvel-ant-man-and-the-wasp-quantumania-kathryn-newton-paul-rudd-155909283.html\n",
      "\t\thttps://ca.sports.yahoo.com/corbin-burnes-says-relationship-with-brewers-definitely-hurt-after-team-blamed-him-for-missing-playoffs-in-hearing-230811805.html\n",
      "\t\thttps://ca.style.yahoo.com/norovirus-symptoms-signs-treatment-211850995.html\n",
      "\t\thttps://ca.finance.yahoo.com/news/biggest-european-lender-to-canadas-oil-sands-calls-it-quits-191948934.html\n",
      "\t\thttps://ca.finance.yahoo.com/news/cenovus-energy-names-new-ceo-stock-falls-q4-results-132011397.html\n",
      "\t\thttps://ca.finance.yahoo.com/news/shopify-stock-plunges-after-issuing-a-weak-outlook-for-2023-151818727.html\n",
      "\t\thttps://ca.sports.yahoo.com/video/jakob-poeltls-monstrous-performance-vs-183957164.html\n",
      "\t\thttps://ca.sports.yahoo.com/news/nhl-trade-deadline-biggest-needs-trade-chips-and-targets-for-all-32-teams-213344523.html\n",
      "\t\thttps://ca.news.yahoo.com/mcdonalds-canada-india-menu-petition-205328436.html\n",
      "\t\thttps://ca.news.yahoo.com/lotto-649-olg-ontario-jackpot-excel-spreadsheet-192201402.html\n",
      "\t\thttps://ca.finance.yahoo.com/news/federal-tax-credits-canadians-take-advantage-but-probably-arent-110020034.html\n",
      "\t\thttps://ca.style.yahoo.com/best-snow-blowers-snow-throwers-210023601.html\n",
      "\t\thttps://ca.style.yahoo.com/winter-storm-car-road-safety-tips-essentials-224053612.html\n",
      "\t\thttps://ca.news.yahoo.com/amazon-prime-video-a-spy-among-friends-224510133.html\n",
      "\t\thttps://ca.style.yahoo.com/everlane-long-weekend-sale-221534686.html\n",
      "\t\thttps://ca.news.yahoo.com/apple-tv-plus-hello-tomorrow-billy-crudup-215310481.html\n",
      "\t\thttps://ca.style.yahoo.com/best-family-day-long-weekend-sales-deals-210039773.html\n",
      "\t\thttps://ca.sports.yahoo.com/news/nhl-trade-deadline-most-untouchable-prospects-193445133.html\n",
      "\t\thttps://ca.style.yahoo.com/nordstroms-winter-sale-zella-leggings-192442357.html\n",
      "\t\thttps://ca.style.yahoo.com/amazon-airplane-footrest-travel-hack-185509550.html\n",
      "\t\thttps://ca.style.yahoo.com/alberta-most-popular-baby-names-2022-181909782.html\n",
      "\t\thttps://ca.style.yahoo.com/bruce-willis-frontotemporal-dementia-ftd-explainer-180115755.html\n",
      "\t\thttps://ca.finance.yahoo.com/news/air-canada-to-hit-pre-pandemic-capacity-levels-2024-recovery-continues-172345199.html\n",
      "\t\thttps://ca.news.yahoo.com/thunder-bay-crave-documentary-series-ryan-mcmahon-170637167.html\n",
      "\t\thttps://ca.news.yahoo.com/apple-tv-plus-sharper-julianne-moore-justice-smith-briana-middleton-170319855.html\n",
      "\t\thttps://ca.style.yahoo.com/tiktok-bc-toddler-working-cariboo-water-viral-video-164607336.html\n",
      "\t\thttps://ca.news.yahoo.com/marvel-ant-man-and-the-wasp-quantumania-kathryn-newton-paul-rudd-155909283.html\n",
      "\t\thttps://ca.finance.yahoo.com/news/editors-note-video-timestamp-error-155556379.html\n",
      "\t\thttps://ca.finance.yahoo.com/news/markets-raise-bets-boc-rate-hike-this-summer-cuts-in-2024-154015811.html\n",
      "\t\thttps://ca.sports.yahoo.com/news/nhl-panthers-proving-to-be-one-of-best-bargain-hunters-153535427.html\n",
      "\t\thttps://ca.style.yahoo.com/amazon-foot-peeling-mask-lightning-deal-152101634.html\n",
      "\t\thttps://ca.style.yahoo.com/best-buy-canada-top-deals-feb-17-145609333.html\n",
      "\t\thttps://ca.sports.yahoo.com/news/nhl-huberdeau-agent-takes-shot-flames-after-loss-red-wings-140442282.html\n",
      "\t\thttps://ca.finance.yahoo.com/news/manulife-ceo-eyes-growth-despite-economic-uncertainty-market-volatility-130840634.html\n",
      "\t\thttps://ca.sports.yahoo.com/news/blue-jays-kevin-gausman-target-of-mlbs-balk-crackdown-i-need-to-re-evaluate-003718617.html\n",
      "\t\thttps://ca.sports.yahoo.com/news/nhl-trade-rumors-kraken-eye-toews-flames-already-considering-moving-on-from-weegar-235615414.html\n",
      "\t\thttps://ca.sports.yahoo.com/news/quebec-premier-francois-legault-demands-explanation-from-qmjhl-on-abuse-hazing-214622658.html\n",
      "\t\thttps://ca.news.yahoo.com/hong-kong-canada-travel-free-tickets-202334888.html\n",
      "\t\thttps://ca.style.yahoo.com/amazon-snow-joe-strain-reducing-shovel-sale-deal-201308637.html\n",
      "\t\thttps://ca.style.yahoo.com/lululemon-we-made-too-much-cropped-define-jacket-deals-194413060.html\n",
      "\t\thttps://ca.style.yahoo.com/kenzie-brenna-changing-body-instagram-183744874.html\n",
      "\t\thttps://ca.style.yahoo.com/dina-pugliese-leaving-breakfast-television-burnout-fans-react-181035482.html\n",
      "\t\thttps://ca.style.yahoo.com/amazon-space-heater-sale-180958982.html\n",
      "\t\thttps://ca.sports.yahoo.com/news/nhl-coach-marc-crawford-investigation-homophobic-slur-referee-zsc-lions-swiss-league-175249947.html\n",
      "\t\thttps://ca.sports.yahoo.com/news/paul-jerrard-omaha-coach-and-former-nhl-assistant-dies-at-57-175025712.html\n",
      "\t\thttps://ca.style.yahoo.com/bellair-laser-clinic-valentines-day-email-171123288.html\n",
      "\t\thttps://ca.style.yahoo.com/best-nordstrom-made-sale-picks-cashmere-sweater-164207076.html\n",
      "\t\thttps://ca.style.yahoo.com/larissa-crawford-s---we-go-through-video-161720421.html\n",
      "\t\thttps://ca.style.yahoo.com/amazon-greenworks-snow-thrower-sale-deal-144720333.html\n",
      "\t\thttps://ca.sports.yahoo.com/news/fred-mcgriffs-hall-of-fame-plaque-wont-feature-a-team-logo-scott-rolens-will-have-cardinals-cap-201841664.html\n",
      "\t\thttps://ca.style.yahoo.com/sports-illustrated-swimsuit-model-sixtine-rouyre-doesnt-want-to-be-another-pretty-face-194456155.html\n",
      "\t\thttp://ca.yahoo.com/?page=2\n",
      "\t\thttps://ca.search.yahoo.com/search?p=John+Tory&fr=fp-tts&fr2=ps\n",
      "\t\thttps://ca.search.yahoo.com/search?p=Stella+Stevens&fr=fp-tts&fr2=ps\n",
      "\t\thttps://ca.search.yahoo.com/search?p=Elavon+Merchant+Services&fr=fp-tts&fr2=ps\n",
      "\t\thttps://ca.search.yahoo.com/search?p=Rory+McIlroy&fr=fp-tts&fr2=ps\n",
      "\t\thttps://ca.search.yahoo.com/search?p=NBA+All-Star+Game&fr=fp-tts&fr2=ps\n",
      "\t\thttps://ca.search.yahoo.com/search?p=Bruce+Willis&fr=fp-tts&fr2=ps\n",
      "\t\thttps://ca.search.yahoo.com/search?p=Resume+Templates&fr=fp-tts&fr2=ps\n",
      "\t\thttps://ca.search.yahoo.com/search?p=Poppy+Harlow&fr=fp-tts&fr2=ps\n",
      "\t\thttps://ca.search.yahoo.com/search?p=Ed+Meds&fr=fp-tts&fr2=ps\n",
      "\t\thttps://ca.search.yahoo.com/search?p=Genshin+Impact&fr=fp-tts&fr2=ps\n",
      "\t\thttps://ca.news.yahoo.com/blogs/\n",
      "\t\thttps://ca.news.yahoo.com/weather/forecast/4118\n",
      "\t\thttps://login.yahoo.com/account/preferences?lang=en-CA&region=CA\n",
      "\t\thttps://ca.sports.yahoo.com/nhl/dallas-stars-minnesota-wild-2023021730/\n",
      "\t\thttps://ca.sports.yahoo.com/nhl/pittsburgh-penguins-new-york-islanders-2023021712/\n",
      "\t\thttps://ca.sports.yahoo.com/nhl/chicago-blackhawks-ottawa-senators-2023021714/\n",
      "\t\thttps://ca.sports.yahoo.com\n",
      "\thttps://ca.help.yahoo.com/kb/search-for-desktop\n",
      "\t\thttps://ca.help.yahoo.com/kb/enable-javascript-sln3020.html\n",
      "\t\thttps://ca.help.yahoo.com/kb/account\n",
      "\t\thttps://login.yahoo.com/?.lang=en-CA&.intl=ca&src=help\n",
      "\t\thttps://ca.news.yahoo.com/celebrity/\n",
      "\t\thttps://ca.yahoo.com/everything/\n",
      "\t\thttps://ca.help.yahoo.com/kb/new-mail-for-desktop\n",
      "\t\thttps://ca.help.yahoo.com/kb/finance-for-web\n",
      "\t\thttps://ca.help.yahoo.com/kb/news\n",
      "\t\thttps://ca.help.yahoo.com/kb/search-for-desktop#/\n",
      "\t\thttps://ca.help.yahoo.com/kb/celebrity\n",
      "\t\thttps://ca.help.yahoo.com/kb/homepage\n",
      "\t\thttps://ca.help.yahoo.com/kb/mobile\n",
      "\t\thttps://ca.help.yahoo.com/kb/movies\n",
      "\t\thttps://ca.help.yahoo.com/kb/music\n",
      "\t\thttps://ca.help.yahoo.com/kb/sports-news\n",
      "\t\thttps://ca.help.yahoo.com/kb/style\n",
      "\t\thttps://ca.help.yahoo.com/kb/weather-for-desktop\n",
      "\t\thttps://news.yahoo.com/coronavirus\n",
      "\t\thttps://login.yahoo.com/forgot?lang=en-CA\n",
      "\t\thttps://io.help.yahoo.com/contact/index?page=contact&locale=en_CA&y=PROD_SRCH\n",
      "\t\thttps://yahoo.uservoice.com/forums/193847?auth=yahoo\n",
      "\t\thttps://ca.help.yahoo.com/kb/search-for-desktop/select-setting-yahoo-safesearch-sln2247.html\n",
      "\t\thttps://ca.help.yahoo.com/kb/search-for-desktop/protect-kids-online-sln503.html\n",
      "\t\thttps://ca.help.yahoo.com/kb/search-for-desktop/remove-search-results-yahoo-search-sln4530.html\n"
     ]
    },
    {
     "name": "stdout",
     "output_type": "stream",
     "text": [
      "\t\thttps://ca.help.yahoo.com/kb/search-for-desktop/posts-intimate-content-permission-sln26123.html\n",
      "\t\thttps://guce.yahoo.com/terms?locale=en-CA\n",
      "\t\thttps://guce.yahoo.com/privacy-policy?locale=en-CA\n",
      "\t\thttps://guce.yahoo.com/privacy-dashboard?locale=en-CA\n",
      "\t\thttps://au.help.yahoo.com/kb/search-for-desktop\n",
      "\t\thttps://br.ajuda.yahoo.com/kb/search-for-desktop\n",
      "\t\thttps://de.hilfe.yahoo.com/kb/search-for-desktop\n",
      "\t\thttps://es.ayuda.yahoo.com/kb/search-for-desktop\n",
      "\t\thttps://es-us.ayuda.yahoo.com/kb/search-for-desktop\n",
      "\t\thttps://fr.aide.yahoo.com/kb/search-for-desktop\n",
      "\t\thttps://en-global.help.yahoo.com/kb/search-for-desktop\n",
      "\t\thttps://in.help.yahoo.com/kb/search-for-desktop\n",
      "\t\thttps://id.bantuan.yahoo.com/kb/search-for-desktop\n",
      "\t\thttps://it.aiuto.yahoo.com/kb/search-for-desktop\n",
      "\t\thttps://en-maktoob.help.yahoo.com/kb/search-for-desktop\n",
      "\t\thttps://my.help.yahoo.com/kb/search-for-desktop\n",
      "\t\thttps://nz.help.yahoo.com/kb/search-for-desktop\n",
      "\t\thttps://ph.help.yahoo.com/kb/search-for-desktop\n",
      "\t\thttps://fr-ca.aide.yahoo.com/kb/search-for-desktop\n",
      "\t\thttps://sg.help.yahoo.com/kb/search-for-desktop\n",
      "\t\thttps://za.help.yahoo.com/kb/search-for-desktop\n",
      "\t\thttps://th.help.yahoo.com/kb/search-for-desktop\n",
      "\t\thttps://uk.help.yahoo.com/kb/search-for-desktop\n",
      "\t\thttps://help.yahoo.com/kb/search-for-desktop\n",
      "\t\thttps://vn.trogiup.yahoo.com/kb/search-for-desktop\n",
      "\t\thttps://tw.help.yahoo.com/kb/search-for-desktop\n",
      "\t\thttps://hk.help.yahoo.com/kb/search-for-desktop\n",
      "\thttps://legal.yahoo.com/ca/en/yahoo/privacy/products/searchservices/index.html\n",
      "\t\thttps://www.yahooinc.com/\n",
      "\t\thttps://legal.yahoo.com/ca/en/yahoo/terms/otos/index.html\n",
      "\t\thttps://legal.yahoo.com/ca/en/yahoo/privacy/index.html\n",
      "\t\thttps://legal.yahoo.com/ca/en/yahoo/privacy/topics/index.html\n",
      "\t\thttps://legal.yahoo.com/ca/en/yahoo/privacy/products/index.html\n",
      "\t\thttps://legal.yahoo.com/ca/en/yahoo/privacy/controls/index.html\n",
      "\t\thttps://legal.yahoo.com/ca/en/yahoo/privacy/dashboard/index.html\n",
      "\t\thttps://legal.yahoo.com/ca/en/yahoo/privacy/adinfo/index.html\n",
      "\t\thttps://legal.yahoo.com/ca/en/yahoo/ip/index.html\n",
      "\t\thttps://legal.yahoo.com/ca/en/yahoo/guidelines/index.html\n",
      "\t\thttps://help.yahoo.com/kb/index?page=product&y=PROD_SRCH&locale=en_CA\n",
      "\t\thttps://search.yahoo.com/\n",
      "\t\thttps://help.yahoo.com/kb/index?page=content&y=PROD_SRCH&locale=en_CA&id=SLN22645\n",
      "\t\thttps://help.yahoo.com/kb/search/SLN22585.html?impressions=true\n",
      "\t\thttps://search.yahoo.com/preferences/preferences?pref_done=https%3A%2F%2Fsearch.yahoo.com%2Fsearch%3Fp%3Dtest%26ei%3DUTF-8%26fr%3Dsfp&.bcrumb=152fFQ.8kx9&tmpl=&fr=sfp\n",
      "\t\thttps://legal.yahoo.com/ca/en/yahoo/privacy/topics/thirdparties/index.html\n",
      "\t\thttps://legal.yahoo.com/ca/en/yahoo/privacy/topics/adserving/index.html\n",
      "\t\thttps://io.help.yahoo.com/contact/index?y=PROD_SRCH&token=w5FCchB1dWGbc2RE0kcjij0u65u86GoeqUkmqtTbcuO%252BLU%252FUQgc3BzwNZtXp6XEXn5YwJ6Wu6A9MCYnw7SzQy5BySKiGUpoj0xug9Sr7JfZdSQjOyA5v2Of2mZTMotlsehDS1xQqu1g%253D&locale=en_GB&page=contactform&selectedChannel=email-icon&isVip=false.\n",
      "\t\thttp://shopping.yahoo.com/\n",
      "\t\thttp://www.pricegrabber.com/\n",
      "\t\thttp://www.pricegrabber.com/privacy-policy\n",
      "\t\thttps://help.yahoo.com/kb/shopping/sln5102.html\n",
      "\thttps://advertising.yahoo.com/Advertisers/Search/index.htm\n",
      "\t\thttps://advertising.yahoo.com/Advertisers/Search/index.htm#main\n",
      "\t\thttps://www.yahooinc.com/press\n",
      "\t\thttps://www.yahooinc.com/careers\n",
      "\t\thttps://admanagerplus.yahoo.com/\n",
      "\t\thttp://ssp.yahooinc.com\n",
      "\t\thttps://www.academy.yahooinc.com/\n",
      "\t\thttps://advertising.yahoo.com/\n",
      "\t\thttps://advertising.yahoo.com/advertiser\n",
      "\t\thttps://advertising.yahoo.com/advertiser/exchange\n",
      "\t\thttps://advertising.yahoo.com/publisher\n",
      "\t\thttps://advertising.yahoo.com/publisher/member-connect\n",
      "\t\thttps://advertising.yahoo.com/blog\n",
      "\t\thttps://advertising.yahoo.com/case-studies\n",
      "\t\thttps://nar.adshowcase.yahooinc.com/\n",
      "\t\thttps://advertising.yahoo.com/about\n",
      "\t\thttps://advertising.yahoo.com/about/our-story\n",
      "\t\thttps://advertising.yahoo.com/about/our-brands\n",
      "\t\thttps://advertising.yahoo.com/advertiser/partners\n",
      "\t\thttps://advertising.yahoo.com/events\n",
      "\t\thttps://advertising.yahoo.com/news\n",
      "\t\thttps://advertising.yahoo.com/oracle\n",
      "\t\thttps://advertising.yahoo.com/contact\n",
      "\t\thttps://advertising.yahoo.com/fr/advertiser\n",
      "\t\thttps://advertising.yahoo.com/it/advertiser\n",
      "\t\thttps://advertising.yahoo.com/pt-br/advertiser\n",
      "\t\thttps://advertising.yahoo.com/advertiser/identity\n",
      "\t\thttps://advertising.yahoo.com/advertiser/measure\n",
      "\t\thttps://advertising.yahoo.com/advertiser/plan\n",
      "\t\thttps://advertising.yahoo.com/advertiser/target\n",
      "\t\thttps://advertising.yahoo.com/advertiser/creative\n",
      "\t\thttps://advertising.yahoo.com/advertiser/optimize\n",
      "\t\thttps://advertising.yahoo.com/advertiser/advanced-tv\n",
      "\t\thttps://advertising.yahoo.com/advertiser/digital-out-of-home\n",
      "\t\thttps://advertising.yahoo.com/advertiser/audio\n",
      "\t\thttps://advertising.yahoo.com/advertiser/native\n",
      "\t\thttps://advertising.yahoo.com/advertiser/video\n",
      "\t\thttps://advertising.yahoo.com/advertiser/mobile\n",
      "\t\thttps://advertising.yahoo.com/advertiser/commerce\n",
      "\t\thttps://adspecs.yahooinc.com/\n",
      "\t\thttps://adshowcase.yahooinc.com/\n",
      "\t\thttps://legal.yahoo.com/us/en/yahoo/terms/otos/index.html\n",
      "\t\thttps://legal.yahoo.com/xw/en/yahoo/privacy/topic/b2bprivacypolicy/index.html\n",
      "\t\thttps://twitter.com/yahoobusiness\n",
      "\t\thttps://www.linkedin.com/company/yahoo-for-business/\n",
      "\t\thttps://www.yahooinc.com/accessibility\n",
      "\t\thttps://legal.yahoo.com/us/en/yahoo/privacy/adinfo/index.html\n",
      "\t\thttp://www.yahooinc.com/business-and-human-rights/\n",
      "\t\thttps://advertising.yahoo.com/about/gender-pay-report\n",
      "\t\thttps://yahooinc.com/eco/standardsofbusinessconduct\n"
     ]
    }
   ],
   "source": [
    "webdir(url,2,0)"
   ]
  },
  {
   "cell_type": "markdown",
   "id": "c83aec65",
   "metadata": {},
   "source": [
    "## Question 08"
   ]
  },
  {
   "cell_type": "code",
   "execution_count": 102,
   "id": "4a4678d1",
   "metadata": {},
   "outputs": [],
   "source": [
    "import sqlite3"
   ]
  },
  {
   "cell_type": "code",
   "execution_count": 104,
   "id": "cc2d7e4e",
   "metadata": {},
   "outputs": [],
   "source": [
    "# create a new database\n",
    "con = sqlite3.connect('weather.db')\n",
    "cur = con.cursor()"
   ]
  },
  {
   "cell_type": "code",
   "execution_count": 105,
   "id": "a8d28c0e",
   "metadata": {},
   "outputs": [
    {
     "data": {
      "text/plain": [
       "<sqlite3.Cursor at 0x22189278340>"
      ]
     },
     "execution_count": 105,
     "metadata": {},
     "output_type": "execute_result"
    }
   ],
   "source": [
    "# create new table\n",
    "cur.execute(\"CREATE TABLE data (City text, Country text, Season text, Temperature real, Rainfall real)\")"
   ]
  },
  {
   "cell_type": "code",
   "execution_count": 106,
   "id": "57eb1bb8",
   "metadata": {},
   "outputs": [
    {
     "data": {
      "text/plain": [
       "<sqlite3.Cursor at 0x22189278340>"
      ]
     },
     "execution_count": 106,
     "metadata": {},
     "output_type": "execute_result"
    }
   ],
   "source": [
    "# insert data\n",
    "cur.execute(\"INSERT INTO data VALUES ('Mumbai','India','Winter',24.8,5.9)\")\n",
    "cur.execute(\"INSERT INTO data VALUES ('Mumbai','India','Spring',28.4,16.2)\")\n",
    "cur.execute(\"INSERT INTO data VALUES ('Mumbai','India','Summer',27.9,1549.4)\")\n",
    "cur.execute(\"INSERT INTO data VALUES ('Mumbai','India','Fall',27.6,346.0)\")\n",
    "cur.execute(\"INSERT INTO data VALUES ('London','United Kingdom','Winter',4.2,207.7)\")\n",
    "cur.execute(\"INSERT INTO data VALUES ('London','United Kingdom','Spring',8.3,169.6)\")\n",
    "cur.execute(\"INSERT INTO data VALUES ('London','United Kingdom','Summer',15.7,157.0)\")\n",
    "cur.execute(\"INSERT INTO data VALUES ('London','United Kingdom','Fall',10.4,218.5)\")\n",
    "cur.execute(\"INSERT INTO data VALUES ('Cairo','Egypt','Winter',13.6,16.5)\")\n",
    "cur.execute(\"INSERT INTO data VALUES ('Cairo','Egypt','Spring',20.7,6.5)\")\n",
    "cur.execute(\"INSERT INTO data VALUES ('Cairo','Egypt','Summer',27.7,0.1)\")\n",
    "cur.execute(\"INSERT INTO data VALUES ('Cairo','Egypt','Fall',22.2,4.5)\")"
   ]
  },
  {
   "cell_type": "code",
   "execution_count": 108,
   "id": "e6d171c1",
   "metadata": {},
   "outputs": [
    {
     "data": {
      "text/plain": [
       "[('Mumbai', 'India', 'Winter', 24.8, 5.9),\n",
       " ('Mumbai', 'India', 'Spring', 28.4, 16.2),\n",
       " ('Mumbai', 'India', 'Summer', 27.9, 1549.4),\n",
       " ('Mumbai', 'India', 'Fall', 27.6, 346.0),\n",
       " ('London', 'United Kingdom', 'Winter', 4.2, 207.7),\n",
       " ('London', 'United Kingdom', 'Spring', 8.3, 169.6),\n",
       " ('London', 'United Kingdom', 'Summer', 15.7, 157.0),\n",
       " ('London', 'United Kingdom', 'Fall', 10.4, 218.5),\n",
       " ('Cairo', 'Egypt', 'Winter', 13.6, 16.5),\n",
       " ('Cairo', 'Egypt', 'Spring', 20.7, 6.5),\n",
       " ('Cairo', 'Egypt', 'Summer', 27.7, 0.1),\n",
       " ('Cairo', 'Egypt', 'Fall', 22.2, 4.5)]"
      ]
     },
     "execution_count": 108,
     "metadata": {},
     "output_type": "execute_result"
    }
   ],
   "source": [
    "# read data\n",
    "cur.execute(\"SELECT * FROM data\")\n",
    "cur.fetchall()"
   ]
  },
  {
   "cell_type": "markdown",
   "id": "b29b4dff",
   "metadata": {},
   "source": [
    "### Part (a)"
   ]
  },
  {
   "cell_type": "code",
   "execution_count": 109,
   "id": "d6c89291",
   "metadata": {},
   "outputs": [
    {
     "data": {
      "text/plain": [
       "[(24.8,),\n",
       " (28.4,),\n",
       " (27.9,),\n",
       " (27.6,),\n",
       " (4.2,),\n",
       " (8.3,),\n",
       " (15.7,),\n",
       " (10.4,),\n",
       " (13.6,),\n",
       " (20.7,),\n",
       " (27.7,),\n",
       " (22.2,)]"
      ]
     },
     "execution_count": 109,
     "metadata": {},
     "output_type": "execute_result"
    }
   ],
   "source": [
    "# all temperature data\n",
    "cur.execute(\"SELECT Temperature FROM data\")\n",
    "cur.fetchall()"
   ]
  },
  {
   "cell_type": "markdown",
   "id": "28d9b9ca",
   "metadata": {},
   "source": [
    "### Part (b)"
   ]
  },
  {
   "cell_type": "code",
   "execution_count": 110,
   "id": "c97b51f7",
   "metadata": {},
   "outputs": [
    {
     "data": {
      "text/plain": [
       "[('Mumbai',), ('London',), ('Cairo',)]"
      ]
     },
     "execution_count": 110,
     "metadata": {},
     "output_type": "execute_result"
    }
   ],
   "source": [
    "# all cities without repetition\n",
    "cur.execute(\"SELECT DISTINCT City FROM data\")\n",
    "cur.fetchall()"
   ]
  },
  {
   "cell_type": "markdown",
   "id": "9f9096a6",
   "metadata": {},
   "source": [
    "### Part (c)"
   ]
  },
  {
   "cell_type": "code",
   "execution_count": 112,
   "id": "8c156f9f",
   "metadata": {},
   "outputs": [
    {
     "data": {
      "text/plain": [
       "[('Mumbai', 'India', 'Winter', 24.8, 5.9),\n",
       " ('Mumbai', 'India', 'Spring', 28.4, 16.2),\n",
       " ('Mumbai', 'India', 'Summer', 27.9, 1549.4),\n",
       " ('Mumbai', 'India', 'Fall', 27.6, 346.0)]"
      ]
     },
     "execution_count": 112,
     "metadata": {},
     "output_type": "execute_result"
    }
   ],
   "source": [
    "# all the records for India\n",
    "cur.execute(\"SELECT * FROM data WHERE Country = 'India'\")\n",
    "cur.fetchall()"
   ]
  },
  {
   "cell_type": "markdown",
   "id": "f79dfadd",
   "metadata": {},
   "source": [
    "### Part (d)"
   ]
  },
  {
   "cell_type": "code",
   "execution_count": 113,
   "id": "2b4b8dd9",
   "metadata": {},
   "outputs": [
    {
     "data": {
      "text/plain": [
       "[('Mumbai', 'India', 'Fall', 27.6, 346.0),\n",
       " ('London', 'United Kingdom', 'Fall', 10.4, 218.5),\n",
       " ('Cairo', 'Egypt', 'Fall', 22.2, 4.5)]"
      ]
     },
     "execution_count": 113,
     "metadata": {},
     "output_type": "execute_result"
    }
   ],
   "source": [
    "# all the fall records\n",
    "cur.execute(\"SELECT * FROM data WHERE Season = 'Fall'\")\n",
    "cur.fetchall()"
   ]
  },
  {
   "cell_type": "markdown",
   "id": "54fcc735",
   "metadata": {},
   "source": [
    "### Part (e)"
   ]
  },
  {
   "cell_type": "code",
   "execution_count": 116,
   "id": "8bebe20f",
   "metadata": {},
   "outputs": [
    {
     "data": {
      "text/plain": [
       "[('Mumbai', 'India', 'Fall'),\n",
       " ('London', 'United Kingdom', 'Winter'),\n",
       " ('London', 'United Kingdom', 'Fall')]"
      ]
     },
     "execution_count": 116,
     "metadata": {},
     "output_type": "execute_result"
    }
   ],
   "source": [
    "# The city, country, and season for which the average rainfall is between 200 and 400 millimeters\n",
    "cur.execute(\"SELECT City,Country,Season FROM data WHERE (Rainfall>200 AND Rainfall<400)\")\n",
    "cur.fetchall()"
   ]
  },
  {
   "cell_type": "markdown",
   "id": "f3bf3efc",
   "metadata": {},
   "source": [
    "### Part (f)"
   ]
  },
  {
   "cell_type": "code",
   "execution_count": 118,
   "id": "34d215ef",
   "metadata": {},
   "outputs": [
    {
     "data": {
      "text/plain": [
       "[('Cairo', 'Egypt'),\n",
       " ('Cairo', 'Egypt'),\n",
       " ('Mumbai', 'India'),\n",
       " ('Mumbai', 'India'),\n",
       " ('Cairo', 'Egypt'),\n",
       " ('Mumbai', 'India'),\n",
       " ('Mumbai', 'India')]"
      ]
     },
     "execution_count": 118,
     "metadata": {},
     "output_type": "execute_result"
    }
   ],
   "source": [
    "# The city and country for which the average Fall temperature is above 20 degrees, in increasing temperature order\n",
    "cur.execute(\"SELECT City,Country FROM data WHERE Temperature>20 ORDER BY Temperature\")\n",
    "cur.fetchall()"
   ]
  },
  {
   "cell_type": "markdown",
   "id": "cf0e430e",
   "metadata": {},
   "source": [
    "### Part (g)"
   ]
  },
  {
   "cell_type": "code",
   "execution_count": 119,
   "id": "676d8031",
   "metadata": {},
   "outputs": [
    {
     "data": {
      "text/plain": [
       "[(27.6,)]"
      ]
     },
     "execution_count": 119,
     "metadata": {},
     "output_type": "execute_result"
    }
   ],
   "source": [
    "# The total annual rainfall for Cairo\n",
    "cur.execute(\"SELECT SUM(Rainfall) FROM data WHERE City = 'Cairo'\")\n",
    "cur.fetchall()"
   ]
  },
  {
   "cell_type": "markdown",
   "id": "14261352",
   "metadata": {},
   "source": [
    "### Part (i)"
   ]
  },
  {
   "cell_type": "code",
   "execution_count": 121,
   "id": "71ad52e1",
   "metadata": {},
   "outputs": [
    {
     "data": {
      "text/plain": [
       "[('Fall', 569.0),\n",
       " ('Spring', 192.29999999999998),\n",
       " ('Summer', 1706.5),\n",
       " ('Winter', 230.1)]"
      ]
     },
     "execution_count": 121,
     "metadata": {},
     "output_type": "execute_result"
    }
   ],
   "source": [
    "# The total rainfall for each season\n",
    "cur.execute(\"SELECT Season,SUM(Rainfall) FROM data GROUP BY Season\")\n",
    "cur.fetchall()"
   ]
  },
  {
   "cell_type": "markdown",
   "id": "3f2fd41b",
   "metadata": {},
   "source": [
    "## Question 09"
   ]
  },
  {
   "cell_type": "code",
   "execution_count": 91,
   "id": "03d30dd4",
   "metadata": {},
   "outputs": [],
   "source": [
    "words = ['The', 'quick', 'brown', 'fox', 'jumps', 'over', 'the', 'lazy', 'dog']"
   ]
  },
  {
   "cell_type": "markdown",
   "id": "6eaac6ab",
   "metadata": {},
   "source": [
    "### Part (a)"
   ]
  },
  {
   "cell_type": "code",
   "execution_count": 92,
   "id": "b9fdea21",
   "metadata": {},
   "outputs": [
    {
     "data": {
      "text/plain": [
       "['THE', 'QUICK', 'BROWN', 'FOX', 'JUMPS', 'OVER', 'THE', 'LAZY', 'DOG']"
      ]
     },
     "execution_count": 92,
     "metadata": {},
     "output_type": "execute_result"
    }
   ],
   "source": [
    "[word.upper() for word in words]"
   ]
  },
  {
   "cell_type": "markdown",
   "id": "b608f40f",
   "metadata": {},
   "source": [
    "### Part (b)"
   ]
  },
  {
   "cell_type": "code",
   "execution_count": 93,
   "id": "20048969",
   "metadata": {},
   "outputs": [
    {
     "data": {
      "text/plain": [
       "['the', 'quick', 'brown', 'fox', 'jumps', 'over', 'the', 'lazy', 'dog']"
      ]
     },
     "execution_count": 93,
     "metadata": {},
     "output_type": "execute_result"
    }
   ],
   "source": [
    "[word.lower() for word in words]"
   ]
  },
  {
   "cell_type": "markdown",
   "id": "40f90f7a",
   "metadata": {},
   "source": [
    "### Part (c)"
   ]
  },
  {
   "cell_type": "code",
   "execution_count": 94,
   "id": "7bf6d1b8",
   "metadata": {},
   "outputs": [
    {
     "data": {
      "text/plain": [
       "[3, 5, 5, 3, 5, 4, 3, 4, 3]"
      ]
     },
     "execution_count": 94,
     "metadata": {},
     "output_type": "execute_result"
    }
   ],
   "source": [
    "[len(word) for word in words]"
   ]
  },
  {
   "cell_type": "markdown",
   "id": "96867f16",
   "metadata": {},
   "source": [
    "### Part (d)"
   ]
  },
  {
   "cell_type": "code",
   "execution_count": 95,
   "id": "e3fdb37a",
   "metadata": {},
   "outputs": [
    {
     "data": {
      "text/plain": [
       "[['THE', 'the', 3],\n",
       " ['QUICK', 'quick', 5],\n",
       " ['BROWN', 'brown', 5],\n",
       " ['FOX', 'fox', 3],\n",
       " ['JUMPS', 'jumps', 5],\n",
       " ['OVER', 'over', 4],\n",
       " ['THE', 'the', 3],\n",
       " ['LAZY', 'lazy', 4],\n",
       " ['DOG', 'dog', 3]]"
      ]
     },
     "execution_count": 95,
     "metadata": {},
     "output_type": "execute_result"
    }
   ],
   "source": [
    "[[word.upper(),word.lower(),len(word)]  for word in words]"
   ]
  },
  {
   "cell_type": "markdown",
   "id": "a6b5fb89",
   "metadata": {},
   "source": [
    "### Part (e)"
   ]
  },
  {
   "cell_type": "code",
   "execution_count": 99,
   "id": "97f0c0e9",
   "metadata": {},
   "outputs": [
    {
     "data": {
      "text/plain": [
       "['quick', 'brown', 'jumps', 'over', 'lazy']"
      ]
     },
     "execution_count": 99,
     "metadata": {},
     "output_type": "execute_result"
    }
   ],
   "source": [
    "[word for word in words if (len(word)>=4)]"
   ]
  },
  {
   "cell_type": "code",
   "execution_count": null,
   "id": "a176b129",
   "metadata": {},
   "outputs": [],
   "source": []
  }
 ],
 "metadata": {
  "kernelspec": {
   "display_name": "Python 3 (ipykernel)",
   "language": "python",
   "name": "python3"
  },
  "language_info": {
   "codemirror_mode": {
    "name": "ipython",
    "version": 3
   },
   "file_extension": ".py",
   "mimetype": "text/x-python",
   "name": "python",
   "nbconvert_exporter": "python",
   "pygments_lexer": "ipython3",
   "version": "3.9.0"
  }
 },
 "nbformat": 4,
 "nbformat_minor": 5
}
